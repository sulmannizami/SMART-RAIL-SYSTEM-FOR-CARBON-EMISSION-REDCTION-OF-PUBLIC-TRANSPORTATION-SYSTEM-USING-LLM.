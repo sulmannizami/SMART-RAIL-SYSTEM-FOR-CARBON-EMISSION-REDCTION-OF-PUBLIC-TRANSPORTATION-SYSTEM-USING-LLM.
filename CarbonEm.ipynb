{
  "nbformat": 4,
  "nbformat_minor": 0,
  "metadata": {
    "colab": {
      "provenance": [],
      "authorship_tag": "ABX9TyPMm3HTYIEB7S96TOldbvo1",
      "include_colab_link": true
    },
    "kernelspec": {
      "name": "python3",
      "display_name": "Python 3"
    },
    "language_info": {
      "name": "python"
    }
  },
  "cells": [
    {
      "cell_type": "markdown",
      "metadata": {
        "id": "view-in-github",
        "colab_type": "text"
      },
      "source": [
        "<a href=\"https://colab.research.google.com/github/sulmannizami/SMART-RAIL-SYSTEM-FOR-CARBON-EMISSION-REDCTION-OF-PUBLIC-TRANSPORTATION-SYSTEM-USING-LLM./blob/main/CarbonEm.ipynb\" target=\"_parent\"><img src=\"https://colab.research.google.com/assets/colab-badge.svg\" alt=\"Open In Colab\"/></a>"
      ]
    },
    {
      "cell_type": "code",
      "execution_count": null,
      "metadata": {
        "id": "geZq7NXY3zFp"
      },
      "outputs": [],
      "source": []
    },
    {
      "cell_type": "markdown",
      "source": [
        "***This is my first file***"
      ],
      "metadata": {
        "id": "K_93pdRE3_AQ"
      }
    },
    {
      "cell_type": "markdown",
      "source": [
        "**New record**"
      ],
      "metadata": {
        "id": "jcbc-pz-4MYp"
      }
    },
    {
      "cell_type": "code",
      "source": [
        "print('hello world')"
      ],
      "metadata": {
        "colab": {
          "base_uri": "https://localhost:8080/"
        },
        "id": "vw8rOVJF4Vh9",
        "outputId": "3c602c9d-0768-4352-e2b1-c8e9bfbf5594"
      },
      "execution_count": null,
      "outputs": [
        {
          "output_type": "stream",
          "name": "stdout",
          "text": [
            "hello world\n"
          ]
        }
      ]
    },
    {
      "cell_type": "code",
      "source": [
        "3+5+89"
      ],
      "metadata": {
        "colab": {
          "base_uri": "https://localhost:8080/"
        },
        "id": "VCaAdmD84rZ0",
        "outputId": "1b2d9d10-92de-4e15-c77c-383df51d8fc0"
      },
      "execution_count": null,
      "outputs": [
        {
          "output_type": "execute_result",
          "data": {
            "text/plain": [
              "97"
            ]
          },
          "metadata": {},
          "execution_count": 2
        }
      ]
    },
    {
      "cell_type": "code",
      "source": [
        "/content/sample_data/california_housing_test.csv"
      ],
      "metadata": {
        "colab": {
          "base_uri": "https://localhost:8080/",
          "height": 141
        },
        "id": "WzvVwova5GnK",
        "outputId": "1e60d788-2c48-4c96-e3bc-200d3aded995"
      },
      "execution_count": null,
      "outputs": [
        {
          "output_type": "error",
          "ename": "NameError",
          "evalue": "name 'content' is not defined",
          "traceback": [
            "\u001b[0;31m---------------------------------------------------------------------------\u001b[0m",
            "\u001b[0;31mNameError\u001b[0m                                 Traceback (most recent call last)",
            "\u001b[0;32m<ipython-input-3-8dc442ff965d>\u001b[0m in \u001b[0;36m<cell line: 1>\u001b[0;34m()\u001b[0m\n\u001b[0;32m----> 1\u001b[0;31m \u001b[0mcontent\u001b[0m\u001b[0;34m/\u001b[0m\u001b[0msample_data\u001b[0m\u001b[0;34m/\u001b[0m\u001b[0mcalifornia_housing_test\u001b[0m\u001b[0;34m.\u001b[0m\u001b[0mcsv\u001b[0m\u001b[0;34m(\u001b[0m\u001b[0;34m)\u001b[0m\u001b[0;34m\u001b[0m\u001b[0;34m\u001b[0m\u001b[0m\n\u001b[0m",
            "\u001b[0;31mNameError\u001b[0m: name 'content' is not defined"
          ]
        }
      ]
    },
    {
      "cell_type": "code",
      "source": [
        "import pandas as pd\n",
        "df=pd.read_csv('/content/sample_data/mnist_train_small.csv')\n",
        "print(df.head())"
      ],
      "metadata": {
        "colab": {
          "base_uri": "https://localhost:8080/"
        },
        "id": "hKfJ50a_IXbK",
        "outputId": "a3d833a5-db98-46a8-ddb8-326eaa364665"
      },
      "execution_count": null,
      "outputs": [
        {
          "output_type": "stream",
          "name": "stdout",
          "text": [
            "   6  0  0.1  0.2  0.3  0.4  0.5  0.6  0.7  0.8  ...  0.581  0.582  0.583  \\\n",
            "0  5  0    0    0    0    0    0    0    0    0  ...      0      0      0   \n",
            "1  7  0    0    0    0    0    0    0    0    0  ...      0      0      0   \n",
            "2  9  0    0    0    0    0    0    0    0    0  ...      0      0      0   \n",
            "3  5  0    0    0    0    0    0    0    0    0  ...      0      0      0   \n",
            "4  2  0    0    0    0    0    0    0    0    0  ...      0      0      0   \n",
            "\n",
            "   0.584  0.585  0.586  0.587  0.588  0.589  0.590  \n",
            "0      0      0      0      0      0      0      0  \n",
            "1      0      0      0      0      0      0      0  \n",
            "2      0      0      0      0      0      0      0  \n",
            "3      0      0      0      0      0      0      0  \n",
            "4      0      0      0      0      0      0      0  \n",
            "\n",
            "[5 rows x 785 columns]\n"
          ]
        }
      ]
    },
    {
      "cell_type": "code",
      "source": [
        "import pandas as pd\n",
        "df=pd.read_csv('/emissions.csv')\n",
        "print(df.head())"
      ],
      "metadata": {
        "colab": {
          "base_uri": "https://localhost:8080/"
        },
        "id": "c7oWM52aJfyW",
        "outputId": "1718f155-58a3-430e-ccfc-d3d9d71c2ecf"
      },
      "execution_count": null,
      "outputs": [
        {
          "output_type": "stream",
          "name": "stdout",
          "text": [
            "       Country  Year  Emissions.Type.CO2  Emissions.Type.N2O  \\\n",
            "0  Afghanistan  1970              2670.0              1820.0   \n",
            "1  Afghanistan  1971              2630.0              1850.0   \n",
            "2  Afghanistan  1972              2180.0              1810.0   \n",
            "3  Afghanistan  1973              2310.0              1830.0   \n",
            "4  Afghanistan  1974              2520.0              2190.0   \n",
            "\n",
            "   Emissions.Type.CH4  Emissions.Sector.Power Industry  \\\n",
            "0             12800.0                             0.06   \n",
            "1             12900.0                             0.06   \n",
            "2             11900.0                             0.12   \n",
            "3             11600.0                             0.17   \n",
            "4             12800.0                             0.21   \n",
            "\n",
            "   Emissions.Sector.Buildings  Emissions.Sector.Transport  \\\n",
            "0                        0.58                        0.23   \n",
            "1                        0.58                        0.23   \n",
            "2                        0.46                        0.27   \n",
            "3                        0.57                        0.24   \n",
            "4                        0.77                        0.24   \n",
            "\n",
            "   Emissions.Sector.Other Industry  Emissions.Sector.Other sectors  \\\n",
            "0                             0.07                            0.53   \n",
            "1                             0.07                            0.53   \n",
            "2                             0.05                            0.61   \n",
            "3                             0.02                            0.47   \n",
            "4                             0.03                            0.65   \n",
            "\n",
            "   Ratio.Per GDP  Ratio.Per Capita  \n",
            "0       1.557705               0.0  \n",
            "1       1.517670               0.0  \n",
            "2       1.357590               0.0  \n",
            "3       1.307901               0.0  \n",
            "4       1.425016               0.0  \n"
          ]
        }
      ]
    },
    {
      "cell_type": "code",
      "source": [
        "import pandas as pd\n",
        "df=pd.read_csv('/Operations Planning Details C&C.csv')\n",
        "print(df.head())"
      ],
      "metadata": {
        "colab": {
          "base_uri": "https://localhost:8080/"
        },
        "id": "u98eOPgeKpKt",
        "outputId": "0c75ce08-4fed-4342-aac7-ca51c90cc9a2"
      },
      "execution_count": null,
      "outputs": [
        {
          "output_type": "stream",
          "name": "stdout",
          "text": [
            "  Information on passenger demand patterns Unnamed: 1 Unnamed: 2 Unnamed: 3  \\\n",
            "0                                    Month    Mondays    Tuesday  Wednesday   \n",
            "1                        Average November      257850     228744     240927   \n",
            "2                         Average December     243537     251808     247481   \n",
            "3                          Average January     255765     242977     242919   \n",
            "4                                  AVERAGE     252384     241176     243776   \n",
            "\n",
            "  Unnamed: 4 Unnamed: 5 Unnamed: 6 Unnamed: 7  Unnamed: 8  Unnamed: 9  \\\n",
            "0   Thursday     Friday   Saturday     Sunday         NaN         NaN   \n",
            "1     232924     216150     207738     169018         NaN         NaN   \n",
            "2     250734     241220     226774     184421         NaN         NaN   \n",
            "3     245618     238340     227938     179875         NaN         NaN   \n",
            "4     243092     231903     220817     177771         NaN         NaN   \n",
            "\n",
            "   Unnamed: 10  \n",
            "0          NaN  \n",
            "1          NaN  \n",
            "2          NaN  \n",
            "3          NaN  \n",
            "4          NaN  \n"
          ]
        }
      ]
    },
    {
      "cell_type": "code",
      "source": [
        "import pandas as pd\n",
        "df=pd.read_csv('/Operations Planning Details C&C.csv')\n",
        "pd.set_option('display.max_rows', None)\n",
        "print(df)"
      ],
      "metadata": {
        "colab": {
          "base_uri": "https://localhost:8080/"
        },
        "id": "Ev1i6APZLcwh",
        "outputId": "e3ba182f-e98d-490d-b5c8-2dccd3168a28"
      },
      "execution_count": null,
      "outputs": [
        {
          "output_type": "stream",
          "name": "stdout",
          "text": [
            "             Information on passenger demand patterns  \\\n",
            "0                                               Month   \n",
            "1                                   Average November    \n",
            "2                                    Average December   \n",
            "3                                     Average January   \n",
            "4                                             AVERAGE   \n",
            "5                                                 NaN   \n",
            "6                                                 NaN   \n",
            "7                                          PEAK HOURS   \n",
            "8                                               Month   \n",
            "9                                            November   \n",
            "10                                           December   \n",
            "11                                            January   \n",
            "12                                                NaN   \n",
            "13                                                NaN   \n",
            "14  NO SEASONAL VARIATION BECAUSE OF USING THE SAM...   \n",
            "15                                                NaN   \n",
            "16                                                NaN   \n",
            "17                            PASSENGERS DEMOGRAPHICS   \n",
            "18                                             GENDER   \n",
            "19                                               MALE   \n",
            "20                                             FEMALE   \n",
            "21                                                NaN   \n",
            "22                                    Travel Patterns   \n",
            "23  62% of the passengers used Orange Line Metro R...   \n",
            "24  16% of the passengers travelled with Orange Li...   \n",
            "25  11% of the passengers travelled 1-2 times per ...   \n",
            "26                                                NaN   \n",
            "27                                                NaN   \n",
            "28                                                NaN   \n",
            "29                                                NaN   \n",
            "30                                                NaN   \n",
            "31                                                NaN   \n",
            "32                                                NaN   \n",
            "33                                                NaN   \n",
            "34                                                NaN   \n",
            "35                                                NaN   \n",
            "36                                                NaN   \n",
            "37                                                NaN   \n",
            "\n",
            "                                           Unnamed: 1  \\\n",
            "0                                             Mondays   \n",
            "1                                              257850   \n",
            "2                                              243537   \n",
            "3                                              255765   \n",
            "4                                              252384   \n",
            "5                                        MOST CROWDED   \n",
            "6                                                 NaN   \n",
            "7                                                 NaN   \n",
            "8                                       Morning Peak    \n",
            "9                                  6:00 am - 8:00 HRS   \n",
            "10                                 6:00 am - 8:00 HRS   \n",
            "11                                 6:00 am - 8:00 HRS   \n",
            "12                                                NaN   \n",
            "13                                                NaN   \n",
            "14                                                NaN   \n",
            "15                                                NaN   \n",
            "16                                                NaN   \n",
            "17                                                NaN   \n",
            "18                                         PERCENTAGE   \n",
            "19                                                73%   \n",
            "20                                                27%   \n",
            "21                                                NaN   \n",
            "22                                                NaN   \n",
            "23                                                NaN   \n",
            "24                                                NaN   \n",
            "25                                                NaN   \n",
            "26                                                NaN   \n",
            "27                                 Before Orange Line   \n",
            "28  52.5% passengers used Chingchi/Rickshaw as the...   \n",
            "29                                                NaN   \n",
            "30                                                NaN   \n",
            "31                                                NaN   \n",
            "32                                         PREFERENCE   \n",
            "33                                         Parameters   \n",
            "34                                        Travel Time   \n",
            "35                                        Travel Cost   \n",
            "36                                            Comfort   \n",
            "37                                    Safety/Security   \n",
            "\n",
            "                                           Unnamed: 2  \\\n",
            "0                                             Tuesday   \n",
            "1                                              228744   \n",
            "2                                              251808   \n",
            "3                                              242977   \n",
            "4                                              241176   \n",
            "5                                                 NaN   \n",
            "6                                                 NaN   \n",
            "7                                                 NaN   \n",
            "8                                                 NaN   \n",
            "9                                                 NaN   \n",
            "10                                                NaN   \n",
            "11                                                NaN   \n",
            "12                                                NaN   \n",
            "13                                                NaN   \n",
            "14                                                NaN   \n",
            "15                                                NaN   \n",
            "16                                                NaN   \n",
            "17                                                NaN   \n",
            "18                                            Remarks   \n",
            "19  As per the latest survey conducted in Septembe...   \n",
            "20                                                NaN   \n",
            "21                                                NaN   \n",
            "22                                                NaN   \n",
            "23                                                NaN   \n",
            "24                                                NaN   \n",
            "25                                                NaN   \n",
            "26                                                NaN   \n",
            "27                                                NaN   \n",
            "28                                                NaN   \n",
            "29                                                NaN   \n",
            "30                                                NaN   \n",
            "31                                                NaN   \n",
            "32                                                NaN   \n",
            "33                                               2022   \n",
            "34                                                64%   \n",
            "35                                                57%   \n",
            "36                                                66%   \n",
            "37                                                42%   \n",
            "\n",
            "                                           Unnamed: 3  \\\n",
            "0                                           Wednesday   \n",
            "1                                              240927   \n",
            "2                                              247481   \n",
            "3                                              242919   \n",
            "4                                              243776   \n",
            "5                                                 NaN   \n",
            "6                                                 NaN   \n",
            "7                                                 NaN   \n",
            "8                                        Evening Peak   \n",
            "9                                   15:00 - 18:00 HRS   \n",
            "10                                  15:00 - 18:00 HRS   \n",
            "11                                  15:00 - 18:00 HRS   \n",
            "12                                                NaN   \n",
            "13                                                NaN   \n",
            "14                                                NaN   \n",
            "15                                                NaN   \n",
            "16                                                NaN   \n",
            "17                                                NaN   \n",
            "18                                                NaN   \n",
            "19                                                NaN   \n",
            "20                                                NaN   \n",
            "21                                                NaN   \n",
            "22                                                NaN   \n",
            "23                                                NaN   \n",
            "24                                                NaN   \n",
            "25                                                NaN   \n",
            "26                                                NaN   \n",
            "27                                  After Orange Line   \n",
            "28  88.5% passengers use Orange Line as their pref...   \n",
            "29                                                NaN   \n",
            "30                                                NaN   \n",
            "31                                                NaN   \n",
            "32                                                NaN   \n",
            "33                                               2024   \n",
            "34                                                80%   \n",
            "35                                                70%   \n",
            "36                                                81%   \n",
            "37                                                64%   \n",
            "\n",
            "                                Unnamed: 4  \\\n",
            "0                                 Thursday   \n",
            "1                                   232924   \n",
            "2                                   250734   \n",
            "3                                   245618   \n",
            "4                                   243092   \n",
            "5                                      NaN   \n",
            "6                                      NaN   \n",
            "7                                      NaN   \n",
            "8                                      NaN   \n",
            "9                                      NaN   \n",
            "10                                     NaN   \n",
            "11                                     NaN   \n",
            "12                                     NaN   \n",
            "13                                     NaN   \n",
            "14                                     NaN   \n",
            "15                                     NaN   \n",
            "16                                     NaN   \n",
            "17                                     NaN   \n",
            "18                                     NaN   \n",
            "19                                     NaN   \n",
            "20                                     NaN   \n",
            "21                                     NaN   \n",
            "22                                     NaN   \n",
            "23                                     NaN   \n",
            "24                                     NaN   \n",
            "25                                     NaN   \n",
            "26                                     NaN   \n",
            "27                                     NaN   \n",
            "28                                     NaN   \n",
            "29                                     NaN   \n",
            "30                                     NaN   \n",
            "31                                     NaN   \n",
            "32                                     NaN   \n",
            "33                                 Remarks   \n",
            "34  As per survey in 2024 still in process   \n",
            "35                                     NaN   \n",
            "36                                     NaN   \n",
            "37                                     NaN   \n",
            "\n",
            "                                   Unnamed: 5 Unnamed: 6  \\\n",
            "0                                      Friday   Saturday   \n",
            "1                                      216150     207738   \n",
            "2                                      241220     226774   \n",
            "3                                      238340     227938   \n",
            "4                                      231903     220817   \n",
            "5                                         NaN        NaN   \n",
            "6                                         NaN        NaN   \n",
            "7                                     REMARKS        NaN   \n",
            "8   This trend hasn't changed for a long time        NaN   \n",
            "9                                         NaN        NaN   \n",
            "10                                        NaN        NaN   \n",
            "11                                        NaN        NaN   \n",
            "12                                        NaN        NaN   \n",
            "13                                        NaN        NaN   \n",
            "14                                        NaN        NaN   \n",
            "15                                        NaN        NaN   \n",
            "16                                        NaN        NaN   \n",
            "17                                        NaN        NaN   \n",
            "18                                        NaN        NaN   \n",
            "19                                        NaN        NaN   \n",
            "20                                        NaN        NaN   \n",
            "21                                        NaN        NaN   \n",
            "22                                        NaN        NaN   \n",
            "23                                        NaN        NaN   \n",
            "24                                        NaN        NaN   \n",
            "25                                        NaN        NaN   \n",
            "26                                        NaN        NaN   \n",
            "27                                    Remarks        NaN   \n",
            "28     As per survey in 2024 still in process        NaN   \n",
            "29                                        NaN        NaN   \n",
            "30                                        NaN        NaN   \n",
            "31                                        NaN        NaN   \n",
            "32                                        NaN        NaN   \n",
            "33                                        NaN        NaN   \n",
            "34                                        NaN        NaN   \n",
            "35                                        NaN        NaN   \n",
            "36                                        NaN        NaN   \n",
            "37                                        NaN        NaN   \n",
            "\n",
            "                                           Unnamed: 7  Unnamed: 8  Unnamed: 9  \\\n",
            "0                                              Sunday         NaN         NaN   \n",
            "1                                              169018         NaN         NaN   \n",
            "2                                              184421         NaN         NaN   \n",
            "3                                              179875         NaN         NaN   \n",
            "4                                              177771         NaN         NaN   \n",
            "5                                       LEAST CROWDED         NaN         NaN   \n",
            "6                                                 NaN         NaN         NaN   \n",
            "7                                                 NaN         NaN         NaN   \n",
            "8                                                 NaN         NaN         NaN   \n",
            "9                                                 NaN         NaN         NaN   \n",
            "10                                                NaN         NaN         NaN   \n",
            "11                                                NaN         NaN         NaN   \n",
            "12                                                NaN         NaN         NaN   \n",
            "13                                                NaN         NaN         NaN   \n",
            "14                                                NaN         NaN         NaN   \n",
            "15                                                NaN         NaN         NaN   \n",
            "16                                                NaN         NaN         NaN   \n",
            "17                                                NaN         NaN         NaN   \n",
            "18                                                NaN         NaN         NaN   \n",
            "19                                                NaN         NaN         NaN   \n",
            "20                                                NaN         NaN         NaN   \n",
            "21                                                NaN         NaN         NaN   \n",
            "22                                            Remarks         NaN         NaN   \n",
            "23  As per the latest survey conducted in Septembe...         NaN         NaN   \n",
            "24                                                NaN         NaN         NaN   \n",
            "25                                                NaN         NaN         NaN   \n",
            "26                                                NaN         NaN         NaN   \n",
            "27                                                NaN         NaN         NaN   \n",
            "28                                                NaN         NaN         NaN   \n",
            "29                                                NaN         NaN         NaN   \n",
            "30                                                NaN         NaN         NaN   \n",
            "31                                                NaN         NaN         NaN   \n",
            "32                                                NaN         NaN         NaN   \n",
            "33                                                NaN         NaN         NaN   \n",
            "34                                                NaN         NaN         NaN   \n",
            "35                                                NaN         NaN         NaN   \n",
            "36                                                NaN         NaN         NaN   \n",
            "37                                                NaN         NaN         NaN   \n",
            "\n",
            "    Unnamed: 10  \n",
            "0           NaN  \n",
            "1           NaN  \n",
            "2           NaN  \n",
            "3           NaN  \n",
            "4           NaN  \n",
            "5           NaN  \n",
            "6           NaN  \n",
            "7           NaN  \n",
            "8           NaN  \n",
            "9           NaN  \n",
            "10          NaN  \n",
            "11          NaN  \n",
            "12          NaN  \n",
            "13          NaN  \n",
            "14          NaN  \n",
            "15          NaN  \n",
            "16          NaN  \n",
            "17          NaN  \n",
            "18          NaN  \n",
            "19          NaN  \n",
            "20          NaN  \n",
            "21          NaN  \n",
            "22          NaN  \n",
            "23          NaN  \n",
            "24          NaN  \n",
            "25          NaN  \n",
            "26          NaN  \n",
            "27          NaN  \n",
            "28          NaN  \n",
            "29          NaN  \n",
            "30          NaN  \n",
            "31          NaN  \n",
            "32          NaN  \n",
            "33          NaN  \n",
            "34          NaN  \n",
            "35          NaN  \n",
            "36          NaN  \n",
            "37          NaN  \n"
          ]
        }
      ]
    },
    {
      "cell_type": "code",
      "source": [],
      "metadata": {
        "id": "pCk9OkXuMY1i"
      },
      "execution_count": null,
      "outputs": []
    },
    {
      "cell_type": "code",
      "source": [
        "import pandas as pd\n",
        "df=pd.read_csv('/Operations Planning Details C&C.csv')\n",
        "pd.set_option('display.max_rows', None)\n"
      ],
      "metadata": {
        "id": "Y6BwuMXJMZ02"
      },
      "execution_count": null,
      "outputs": []
    },
    {
      "cell_type": "code",
      "source": [],
      "metadata": {
        "id": "Z7NVBewrM7K0"
      },
      "execution_count": null,
      "outputs": []
    },
    {
      "cell_type": "code",
      "source": [
        "import pandas as pd\n",
        "df=read_csv('/2022-01-27-CICO.csv')\n",
        "pd.set_option('display.max_rows', None)\n",
        "print(df)"
      ],
      "metadata": {
        "colab": {
          "base_uri": "https://localhost:8080/",
          "height": 193
        },
        "id": "doC8c-zuPKPQ",
        "outputId": "44f083cb-2496-4328-b82d-d808381d0d12"
      },
      "execution_count": null,
      "outputs": [
        {
          "output_type": "error",
          "ename": "NameError",
          "evalue": "name 'read_csv' is not defined",
          "traceback": [
            "\u001b[0;31m---------------------------------------------------------------------------\u001b[0m",
            "\u001b[0;31mNameError\u001b[0m                                 Traceback (most recent call last)",
            "\u001b[0;32m<ipython-input-15-acfdee823ef2>\u001b[0m in \u001b[0;36m<cell line: 2>\u001b[0;34m()\u001b[0m\n\u001b[1;32m      1\u001b[0m \u001b[0;32mimport\u001b[0m \u001b[0mpandas\u001b[0m \u001b[0;32mas\u001b[0m \u001b[0mpd\u001b[0m\u001b[0;34m\u001b[0m\u001b[0;34m\u001b[0m\u001b[0m\n\u001b[0;32m----> 2\u001b[0;31m \u001b[0mdf\u001b[0m\u001b[0;34m=\u001b[0m\u001b[0mread_csv\u001b[0m\u001b[0;34m(\u001b[0m\u001b[0;34m'/2022-01-27-CICO.csv'\u001b[0m\u001b[0;34m)\u001b[0m\u001b[0;34m\u001b[0m\u001b[0;34m\u001b[0m\u001b[0m\n\u001b[0m\u001b[1;32m      3\u001b[0m \u001b[0mpd\u001b[0m\u001b[0;34m.\u001b[0m\u001b[0mset_option\u001b[0m\u001b[0;34m(\u001b[0m\u001b[0;34m'display.max_rows'\u001b[0m\u001b[0;34m,\u001b[0m \u001b[0;32mNone\u001b[0m\u001b[0;34m)\u001b[0m\u001b[0;34m\u001b[0m\u001b[0;34m\u001b[0m\u001b[0m\n\u001b[1;32m      4\u001b[0m \u001b[0mprint\u001b[0m\u001b[0;34m(\u001b[0m\u001b[0mdf\u001b[0m\u001b[0;34m)\u001b[0m\u001b[0;34m\u001b[0m\u001b[0;34m\u001b[0m\u001b[0m\n",
            "\u001b[0;31mNameError\u001b[0m: name 'read_csv' is not defined"
          ]
        }
      ]
    },
    {
      "cell_type": "code",
      "source": [],
      "metadata": {
        "id": "AfPWkcBZPsmG"
      },
      "execution_count": null,
      "outputs": []
    },
    {
      "cell_type": "code",
      "source": [
        "import pandas as pd\n",
        "df=pd.read_csv('/2022-01-27-CICO.csv')\n",
        "pd.set_option('display.max_rows', None)\n",
        "print (df)\n"
      ],
      "metadata": {
        "colab": {
          "base_uri": "https://localhost:8080/",
          "height": 287
        },
        "id": "tCUfwEHrPv--",
        "outputId": "6e8876a2-d4ab-44de-c6e6-a95d6e8944f1"
      },
      "execution_count": null,
      "outputs": [
        {
          "output_type": "error",
          "ename": "UnicodeDecodeError",
          "evalue": "'utf-8' codec can't decode byte 0xe8 in position 65537: invalid continuation byte",
          "traceback": [
            "\u001b[0;31m---------------------------------------------------------------------------\u001b[0m",
            "\u001b[0;31mUnicodeDecodeError\u001b[0m                        Traceback (most recent call last)",
            "\u001b[0;32m<ipython-input-16-bbe176679440>\u001b[0m in \u001b[0;36m<cell line: 2>\u001b[0;34m()\u001b[0m\n\u001b[1;32m      1\u001b[0m \u001b[0;32mimport\u001b[0m \u001b[0mpandas\u001b[0m \u001b[0;32mas\u001b[0m \u001b[0mpd\u001b[0m\u001b[0;34m\u001b[0m\u001b[0;34m\u001b[0m\u001b[0m\n\u001b[0;32m----> 2\u001b[0;31m \u001b[0mdf\u001b[0m\u001b[0;34m=\u001b[0m\u001b[0mpd\u001b[0m\u001b[0;34m.\u001b[0m\u001b[0mread_csv\u001b[0m\u001b[0;34m(\u001b[0m\u001b[0;34m'/2022-01-27-CICO.csv'\u001b[0m\u001b[0;34m)\u001b[0m\u001b[0;34m\u001b[0m\u001b[0;34m\u001b[0m\u001b[0m\n\u001b[0m\u001b[1;32m      3\u001b[0m \u001b[0mpd\u001b[0m\u001b[0;34m.\u001b[0m\u001b[0mset_option\u001b[0m\u001b[0;34m(\u001b[0m\u001b[0;34m'display.max_rows'\u001b[0m\u001b[0;34m,\u001b[0m \u001b[0;32mNone\u001b[0m\u001b[0;34m)\u001b[0m\u001b[0;34m\u001b[0m\u001b[0;34m\u001b[0m\u001b[0m\n\u001b[1;32m      4\u001b[0m \u001b[0mprint\u001b[0m \u001b[0;34m(\u001b[0m\u001b[0mdf\u001b[0m\u001b[0;34m)\u001b[0m\u001b[0;34m\u001b[0m\u001b[0;34m\u001b[0m\u001b[0m\n",
            "\u001b[0;32m/usr/local/lib/python3.10/dist-packages/pandas/util/_decorators.py\u001b[0m in \u001b[0;36mwrapper\u001b[0;34m(*args, **kwargs)\u001b[0m\n\u001b[1;32m    209\u001b[0m                 \u001b[0;32melse\u001b[0m\u001b[0;34m:\u001b[0m\u001b[0;34m\u001b[0m\u001b[0;34m\u001b[0m\u001b[0m\n\u001b[1;32m    210\u001b[0m                     \u001b[0mkwargs\u001b[0m\u001b[0;34m[\u001b[0m\u001b[0mnew_arg_name\u001b[0m\u001b[0;34m]\u001b[0m \u001b[0;34m=\u001b[0m \u001b[0mnew_arg_value\u001b[0m\u001b[0;34m\u001b[0m\u001b[0;34m\u001b[0m\u001b[0m\n\u001b[0;32m--> 211\u001b[0;31m             \u001b[0;32mreturn\u001b[0m \u001b[0mfunc\u001b[0m\u001b[0;34m(\u001b[0m\u001b[0;34m*\u001b[0m\u001b[0margs\u001b[0m\u001b[0;34m,\u001b[0m \u001b[0;34m**\u001b[0m\u001b[0mkwargs\u001b[0m\u001b[0;34m)\u001b[0m\u001b[0;34m\u001b[0m\u001b[0;34m\u001b[0m\u001b[0m\n\u001b[0m\u001b[1;32m    212\u001b[0m \u001b[0;34m\u001b[0m\u001b[0m\n\u001b[1;32m    213\u001b[0m         \u001b[0;32mreturn\u001b[0m \u001b[0mcast\u001b[0m\u001b[0;34m(\u001b[0m\u001b[0mF\u001b[0m\u001b[0;34m,\u001b[0m \u001b[0mwrapper\u001b[0m\u001b[0;34m)\u001b[0m\u001b[0;34m\u001b[0m\u001b[0;34m\u001b[0m\u001b[0m\n",
            "\u001b[0;32m/usr/local/lib/python3.10/dist-packages/pandas/util/_decorators.py\u001b[0m in \u001b[0;36mwrapper\u001b[0;34m(*args, **kwargs)\u001b[0m\n\u001b[1;32m    329\u001b[0m                     \u001b[0mstacklevel\u001b[0m\u001b[0;34m=\u001b[0m\u001b[0mfind_stack_level\u001b[0m\u001b[0;34m(\u001b[0m\u001b[0;34m)\u001b[0m\u001b[0;34m,\u001b[0m\u001b[0;34m\u001b[0m\u001b[0;34m\u001b[0m\u001b[0m\n\u001b[1;32m    330\u001b[0m                 )\n\u001b[0;32m--> 331\u001b[0;31m             \u001b[0;32mreturn\u001b[0m \u001b[0mfunc\u001b[0m\u001b[0;34m(\u001b[0m\u001b[0;34m*\u001b[0m\u001b[0margs\u001b[0m\u001b[0;34m,\u001b[0m \u001b[0;34m**\u001b[0m\u001b[0mkwargs\u001b[0m\u001b[0;34m)\u001b[0m\u001b[0;34m\u001b[0m\u001b[0;34m\u001b[0m\u001b[0m\n\u001b[0m\u001b[1;32m    332\u001b[0m \u001b[0;34m\u001b[0m\u001b[0m\n\u001b[1;32m    333\u001b[0m         \u001b[0;31m# error: \"Callable[[VarArg(Any), KwArg(Any)], Any]\" has no\u001b[0m\u001b[0;34m\u001b[0m\u001b[0;34m\u001b[0m\u001b[0m\n",
            "\u001b[0;32m/usr/local/lib/python3.10/dist-packages/pandas/io/parsers/readers.py\u001b[0m in \u001b[0;36mread_csv\u001b[0;34m(filepath_or_buffer, sep, delimiter, header, names, index_col, usecols, squeeze, prefix, mangle_dupe_cols, dtype, engine, converters, true_values, false_values, skipinitialspace, skiprows, skipfooter, nrows, na_values, keep_default_na, na_filter, verbose, skip_blank_lines, parse_dates, infer_datetime_format, keep_date_col, date_parser, dayfirst, cache_dates, iterator, chunksize, compression, thousands, decimal, lineterminator, quotechar, quoting, doublequote, escapechar, comment, encoding, encoding_errors, dialect, error_bad_lines, warn_bad_lines, on_bad_lines, delim_whitespace, low_memory, memory_map, float_precision, storage_options)\u001b[0m\n\u001b[1;32m    948\u001b[0m     \u001b[0mkwds\u001b[0m\u001b[0;34m.\u001b[0m\u001b[0mupdate\u001b[0m\u001b[0;34m(\u001b[0m\u001b[0mkwds_defaults\u001b[0m\u001b[0;34m)\u001b[0m\u001b[0;34m\u001b[0m\u001b[0;34m\u001b[0m\u001b[0m\n\u001b[1;32m    949\u001b[0m \u001b[0;34m\u001b[0m\u001b[0m\n\u001b[0;32m--> 950\u001b[0;31m     \u001b[0;32mreturn\u001b[0m \u001b[0m_read\u001b[0m\u001b[0;34m(\u001b[0m\u001b[0mfilepath_or_buffer\u001b[0m\u001b[0;34m,\u001b[0m \u001b[0mkwds\u001b[0m\u001b[0;34m)\u001b[0m\u001b[0;34m\u001b[0m\u001b[0;34m\u001b[0m\u001b[0m\n\u001b[0m\u001b[1;32m    951\u001b[0m \u001b[0;34m\u001b[0m\u001b[0m\n\u001b[1;32m    952\u001b[0m \u001b[0;34m\u001b[0m\u001b[0m\n",
            "\u001b[0;32m/usr/local/lib/python3.10/dist-packages/pandas/io/parsers/readers.py\u001b[0m in \u001b[0;36m_read\u001b[0;34m(filepath_or_buffer, kwds)\u001b[0m\n\u001b[1;32m    609\u001b[0m \u001b[0;34m\u001b[0m\u001b[0m\n\u001b[1;32m    610\u001b[0m     \u001b[0;32mwith\u001b[0m \u001b[0mparser\u001b[0m\u001b[0;34m:\u001b[0m\u001b[0;34m\u001b[0m\u001b[0;34m\u001b[0m\u001b[0m\n\u001b[0;32m--> 611\u001b[0;31m         \u001b[0;32mreturn\u001b[0m \u001b[0mparser\u001b[0m\u001b[0;34m.\u001b[0m\u001b[0mread\u001b[0m\u001b[0;34m(\u001b[0m\u001b[0mnrows\u001b[0m\u001b[0;34m)\u001b[0m\u001b[0;34m\u001b[0m\u001b[0;34m\u001b[0m\u001b[0m\n\u001b[0m\u001b[1;32m    612\u001b[0m \u001b[0;34m\u001b[0m\u001b[0m\n\u001b[1;32m    613\u001b[0m \u001b[0;34m\u001b[0m\u001b[0m\n",
            "\u001b[0;32m/usr/local/lib/python3.10/dist-packages/pandas/io/parsers/readers.py\u001b[0m in \u001b[0;36mread\u001b[0;34m(self, nrows)\u001b[0m\n\u001b[1;32m   1776\u001b[0m                     \u001b[0mcolumns\u001b[0m\u001b[0;34m,\u001b[0m\u001b[0;34m\u001b[0m\u001b[0;34m\u001b[0m\u001b[0m\n\u001b[1;32m   1777\u001b[0m                     \u001b[0mcol_dict\u001b[0m\u001b[0;34m,\u001b[0m\u001b[0;34m\u001b[0m\u001b[0;34m\u001b[0m\u001b[0m\n\u001b[0;32m-> 1778\u001b[0;31m                 \u001b[0;34m)\u001b[0m \u001b[0;34m=\u001b[0m \u001b[0mself\u001b[0m\u001b[0;34m.\u001b[0m\u001b[0m_engine\u001b[0m\u001b[0;34m.\u001b[0m\u001b[0mread\u001b[0m\u001b[0;34m(\u001b[0m  \u001b[0;31m# type: ignore[attr-defined]\u001b[0m\u001b[0;34m\u001b[0m\u001b[0;34m\u001b[0m\u001b[0m\n\u001b[0m\u001b[1;32m   1779\u001b[0m                     \u001b[0mnrows\u001b[0m\u001b[0;34m\u001b[0m\u001b[0;34m\u001b[0m\u001b[0m\n\u001b[1;32m   1780\u001b[0m                 )\n",
            "\u001b[0;32m/usr/local/lib/python3.10/dist-packages/pandas/io/parsers/c_parser_wrapper.py\u001b[0m in \u001b[0;36mread\u001b[0;34m(self, nrows)\u001b[0m\n\u001b[1;32m    228\u001b[0m         \u001b[0;32mtry\u001b[0m\u001b[0;34m:\u001b[0m\u001b[0;34m\u001b[0m\u001b[0;34m\u001b[0m\u001b[0m\n\u001b[1;32m    229\u001b[0m             \u001b[0;32mif\u001b[0m \u001b[0mself\u001b[0m\u001b[0;34m.\u001b[0m\u001b[0mlow_memory\u001b[0m\u001b[0;34m:\u001b[0m\u001b[0;34m\u001b[0m\u001b[0;34m\u001b[0m\u001b[0m\n\u001b[0;32m--> 230\u001b[0;31m                 \u001b[0mchunks\u001b[0m \u001b[0;34m=\u001b[0m \u001b[0mself\u001b[0m\u001b[0;34m.\u001b[0m\u001b[0m_reader\u001b[0m\u001b[0;34m.\u001b[0m\u001b[0mread_low_memory\u001b[0m\u001b[0;34m(\u001b[0m\u001b[0mnrows\u001b[0m\u001b[0;34m)\u001b[0m\u001b[0;34m\u001b[0m\u001b[0;34m\u001b[0m\u001b[0m\n\u001b[0m\u001b[1;32m    231\u001b[0m                 \u001b[0;31m# destructive to chunks\u001b[0m\u001b[0;34m\u001b[0m\u001b[0;34m\u001b[0m\u001b[0m\n\u001b[1;32m    232\u001b[0m                 \u001b[0mdata\u001b[0m \u001b[0;34m=\u001b[0m \u001b[0m_concatenate_chunks\u001b[0m\u001b[0;34m(\u001b[0m\u001b[0mchunks\u001b[0m\u001b[0;34m)\u001b[0m\u001b[0;34m\u001b[0m\u001b[0;34m\u001b[0m\u001b[0m\n",
            "\u001b[0;32m/usr/local/lib/python3.10/dist-packages/pandas/_libs/parsers.pyx\u001b[0m in \u001b[0;36mpandas._libs.parsers.TextReader.read_low_memory\u001b[0;34m()\u001b[0m\n",
            "\u001b[0;32m/usr/local/lib/python3.10/dist-packages/pandas/_libs/parsers.pyx\u001b[0m in \u001b[0;36mpandas._libs.parsers.TextReader._read_rows\u001b[0;34m()\u001b[0m\n",
            "\u001b[0;32m/usr/local/lib/python3.10/dist-packages/pandas/_libs/parsers.pyx\u001b[0m in \u001b[0;36mpandas._libs.parsers.TextReader._tokenize_rows\u001b[0;34m()\u001b[0m\n",
            "\u001b[0;32m/usr/local/lib/python3.10/dist-packages/pandas/_libs/parsers.pyx\u001b[0m in \u001b[0;36mpandas._libs.parsers.raise_parser_error\u001b[0;34m()\u001b[0m\n",
            "\u001b[0;31mUnicodeDecodeError\u001b[0m: 'utf-8' codec can't decode byte 0xe8 in position 65537: invalid continuation byte"
          ]
        }
      ]
    },
    {
      "cell_type": "code",
      "source": [
        "import pandas as pd\n",
        "df=pd.read_csv('/2022-01-27-CICO.csv')\n",
        "print(df.head())"
      ],
      "metadata": {
        "colab": {
          "base_uri": "https://localhost:8080/",
          "height": 269
        },
        "id": "FYR_ksiNRb5i",
        "outputId": "b282ae37-dc41-4bde-dfb7-9d467def767b"
      },
      "execution_count": null,
      "outputs": [
        {
          "output_type": "error",
          "ename": "UnicodeDecodeError",
          "evalue": "'utf-8' codec can't decode byte 0xe8 in position 65537: invalid continuation byte",
          "traceback": [
            "\u001b[0;31m---------------------------------------------------------------------------\u001b[0m",
            "\u001b[0;31mUnicodeDecodeError\u001b[0m                        Traceback (most recent call last)",
            "\u001b[0;32m<ipython-input-17-be01ece2d5ab>\u001b[0m in \u001b[0;36m<cell line: 2>\u001b[0;34m()\u001b[0m\n\u001b[1;32m      1\u001b[0m \u001b[0;32mimport\u001b[0m \u001b[0mpandas\u001b[0m \u001b[0;32mas\u001b[0m \u001b[0mpd\u001b[0m\u001b[0;34m\u001b[0m\u001b[0;34m\u001b[0m\u001b[0m\n\u001b[0;32m----> 2\u001b[0;31m \u001b[0mdf\u001b[0m\u001b[0;34m=\u001b[0m\u001b[0mpd\u001b[0m\u001b[0;34m.\u001b[0m\u001b[0mread_csv\u001b[0m\u001b[0;34m(\u001b[0m\u001b[0;34m'/2022-01-27-CICO.csv'\u001b[0m\u001b[0;34m)\u001b[0m\u001b[0;34m\u001b[0m\u001b[0;34m\u001b[0m\u001b[0m\n\u001b[0m\u001b[1;32m      3\u001b[0m \u001b[0mprint\u001b[0m\u001b[0;34m(\u001b[0m\u001b[0mdf\u001b[0m\u001b[0;34m.\u001b[0m\u001b[0mhead\u001b[0m\u001b[0;34m(\u001b[0m\u001b[0;34m)\u001b[0m\u001b[0;34m)\u001b[0m\u001b[0;34m\u001b[0m\u001b[0;34m\u001b[0m\u001b[0m\n",
            "\u001b[0;32m/usr/local/lib/python3.10/dist-packages/pandas/util/_decorators.py\u001b[0m in \u001b[0;36mwrapper\u001b[0;34m(*args, **kwargs)\u001b[0m\n\u001b[1;32m    209\u001b[0m                 \u001b[0;32melse\u001b[0m\u001b[0;34m:\u001b[0m\u001b[0;34m\u001b[0m\u001b[0;34m\u001b[0m\u001b[0m\n\u001b[1;32m    210\u001b[0m                     \u001b[0mkwargs\u001b[0m\u001b[0;34m[\u001b[0m\u001b[0mnew_arg_name\u001b[0m\u001b[0;34m]\u001b[0m \u001b[0;34m=\u001b[0m \u001b[0mnew_arg_value\u001b[0m\u001b[0;34m\u001b[0m\u001b[0;34m\u001b[0m\u001b[0m\n\u001b[0;32m--> 211\u001b[0;31m             \u001b[0;32mreturn\u001b[0m \u001b[0mfunc\u001b[0m\u001b[0;34m(\u001b[0m\u001b[0;34m*\u001b[0m\u001b[0margs\u001b[0m\u001b[0;34m,\u001b[0m \u001b[0;34m**\u001b[0m\u001b[0mkwargs\u001b[0m\u001b[0;34m)\u001b[0m\u001b[0;34m\u001b[0m\u001b[0;34m\u001b[0m\u001b[0m\n\u001b[0m\u001b[1;32m    212\u001b[0m \u001b[0;34m\u001b[0m\u001b[0m\n\u001b[1;32m    213\u001b[0m         \u001b[0;32mreturn\u001b[0m \u001b[0mcast\u001b[0m\u001b[0;34m(\u001b[0m\u001b[0mF\u001b[0m\u001b[0;34m,\u001b[0m \u001b[0mwrapper\u001b[0m\u001b[0;34m)\u001b[0m\u001b[0;34m\u001b[0m\u001b[0;34m\u001b[0m\u001b[0m\n",
            "\u001b[0;32m/usr/local/lib/python3.10/dist-packages/pandas/util/_decorators.py\u001b[0m in \u001b[0;36mwrapper\u001b[0;34m(*args, **kwargs)\u001b[0m\n\u001b[1;32m    329\u001b[0m                     \u001b[0mstacklevel\u001b[0m\u001b[0;34m=\u001b[0m\u001b[0mfind_stack_level\u001b[0m\u001b[0;34m(\u001b[0m\u001b[0;34m)\u001b[0m\u001b[0;34m,\u001b[0m\u001b[0;34m\u001b[0m\u001b[0;34m\u001b[0m\u001b[0m\n\u001b[1;32m    330\u001b[0m                 )\n\u001b[0;32m--> 331\u001b[0;31m             \u001b[0;32mreturn\u001b[0m \u001b[0mfunc\u001b[0m\u001b[0;34m(\u001b[0m\u001b[0;34m*\u001b[0m\u001b[0margs\u001b[0m\u001b[0;34m,\u001b[0m \u001b[0;34m**\u001b[0m\u001b[0mkwargs\u001b[0m\u001b[0;34m)\u001b[0m\u001b[0;34m\u001b[0m\u001b[0;34m\u001b[0m\u001b[0m\n\u001b[0m\u001b[1;32m    332\u001b[0m \u001b[0;34m\u001b[0m\u001b[0m\n\u001b[1;32m    333\u001b[0m         \u001b[0;31m# error: \"Callable[[VarArg(Any), KwArg(Any)], Any]\" has no\u001b[0m\u001b[0;34m\u001b[0m\u001b[0;34m\u001b[0m\u001b[0m\n",
            "\u001b[0;32m/usr/local/lib/python3.10/dist-packages/pandas/io/parsers/readers.py\u001b[0m in \u001b[0;36mread_csv\u001b[0;34m(filepath_or_buffer, sep, delimiter, header, names, index_col, usecols, squeeze, prefix, mangle_dupe_cols, dtype, engine, converters, true_values, false_values, skipinitialspace, skiprows, skipfooter, nrows, na_values, keep_default_na, na_filter, verbose, skip_blank_lines, parse_dates, infer_datetime_format, keep_date_col, date_parser, dayfirst, cache_dates, iterator, chunksize, compression, thousands, decimal, lineterminator, quotechar, quoting, doublequote, escapechar, comment, encoding, encoding_errors, dialect, error_bad_lines, warn_bad_lines, on_bad_lines, delim_whitespace, low_memory, memory_map, float_precision, storage_options)\u001b[0m\n\u001b[1;32m    948\u001b[0m     \u001b[0mkwds\u001b[0m\u001b[0;34m.\u001b[0m\u001b[0mupdate\u001b[0m\u001b[0;34m(\u001b[0m\u001b[0mkwds_defaults\u001b[0m\u001b[0;34m)\u001b[0m\u001b[0;34m\u001b[0m\u001b[0;34m\u001b[0m\u001b[0m\n\u001b[1;32m    949\u001b[0m \u001b[0;34m\u001b[0m\u001b[0m\n\u001b[0;32m--> 950\u001b[0;31m     \u001b[0;32mreturn\u001b[0m \u001b[0m_read\u001b[0m\u001b[0;34m(\u001b[0m\u001b[0mfilepath_or_buffer\u001b[0m\u001b[0;34m,\u001b[0m \u001b[0mkwds\u001b[0m\u001b[0;34m)\u001b[0m\u001b[0;34m\u001b[0m\u001b[0;34m\u001b[0m\u001b[0m\n\u001b[0m\u001b[1;32m    951\u001b[0m \u001b[0;34m\u001b[0m\u001b[0m\n\u001b[1;32m    952\u001b[0m \u001b[0;34m\u001b[0m\u001b[0m\n",
            "\u001b[0;32m/usr/local/lib/python3.10/dist-packages/pandas/io/parsers/readers.py\u001b[0m in \u001b[0;36m_read\u001b[0;34m(filepath_or_buffer, kwds)\u001b[0m\n\u001b[1;32m    609\u001b[0m \u001b[0;34m\u001b[0m\u001b[0m\n\u001b[1;32m    610\u001b[0m     \u001b[0;32mwith\u001b[0m \u001b[0mparser\u001b[0m\u001b[0;34m:\u001b[0m\u001b[0;34m\u001b[0m\u001b[0;34m\u001b[0m\u001b[0m\n\u001b[0;32m--> 611\u001b[0;31m         \u001b[0;32mreturn\u001b[0m \u001b[0mparser\u001b[0m\u001b[0;34m.\u001b[0m\u001b[0mread\u001b[0m\u001b[0;34m(\u001b[0m\u001b[0mnrows\u001b[0m\u001b[0;34m)\u001b[0m\u001b[0;34m\u001b[0m\u001b[0;34m\u001b[0m\u001b[0m\n\u001b[0m\u001b[1;32m    612\u001b[0m \u001b[0;34m\u001b[0m\u001b[0m\n\u001b[1;32m    613\u001b[0m \u001b[0;34m\u001b[0m\u001b[0m\n",
            "\u001b[0;32m/usr/local/lib/python3.10/dist-packages/pandas/io/parsers/readers.py\u001b[0m in \u001b[0;36mread\u001b[0;34m(self, nrows)\u001b[0m\n\u001b[1;32m   1776\u001b[0m                     \u001b[0mcolumns\u001b[0m\u001b[0;34m,\u001b[0m\u001b[0;34m\u001b[0m\u001b[0;34m\u001b[0m\u001b[0m\n\u001b[1;32m   1777\u001b[0m                     \u001b[0mcol_dict\u001b[0m\u001b[0;34m,\u001b[0m\u001b[0;34m\u001b[0m\u001b[0;34m\u001b[0m\u001b[0m\n\u001b[0;32m-> 1778\u001b[0;31m                 \u001b[0;34m)\u001b[0m \u001b[0;34m=\u001b[0m \u001b[0mself\u001b[0m\u001b[0;34m.\u001b[0m\u001b[0m_engine\u001b[0m\u001b[0;34m.\u001b[0m\u001b[0mread\u001b[0m\u001b[0;34m(\u001b[0m  \u001b[0;31m# type: ignore[attr-defined]\u001b[0m\u001b[0;34m\u001b[0m\u001b[0;34m\u001b[0m\u001b[0m\n\u001b[0m\u001b[1;32m   1779\u001b[0m                     \u001b[0mnrows\u001b[0m\u001b[0;34m\u001b[0m\u001b[0;34m\u001b[0m\u001b[0m\n\u001b[1;32m   1780\u001b[0m                 )\n",
            "\u001b[0;32m/usr/local/lib/python3.10/dist-packages/pandas/io/parsers/c_parser_wrapper.py\u001b[0m in \u001b[0;36mread\u001b[0;34m(self, nrows)\u001b[0m\n\u001b[1;32m    228\u001b[0m         \u001b[0;32mtry\u001b[0m\u001b[0;34m:\u001b[0m\u001b[0;34m\u001b[0m\u001b[0;34m\u001b[0m\u001b[0m\n\u001b[1;32m    229\u001b[0m             \u001b[0;32mif\u001b[0m \u001b[0mself\u001b[0m\u001b[0;34m.\u001b[0m\u001b[0mlow_memory\u001b[0m\u001b[0;34m:\u001b[0m\u001b[0;34m\u001b[0m\u001b[0;34m\u001b[0m\u001b[0m\n\u001b[0;32m--> 230\u001b[0;31m                 \u001b[0mchunks\u001b[0m \u001b[0;34m=\u001b[0m \u001b[0mself\u001b[0m\u001b[0;34m.\u001b[0m\u001b[0m_reader\u001b[0m\u001b[0;34m.\u001b[0m\u001b[0mread_low_memory\u001b[0m\u001b[0;34m(\u001b[0m\u001b[0mnrows\u001b[0m\u001b[0;34m)\u001b[0m\u001b[0;34m\u001b[0m\u001b[0;34m\u001b[0m\u001b[0m\n\u001b[0m\u001b[1;32m    231\u001b[0m                 \u001b[0;31m# destructive to chunks\u001b[0m\u001b[0;34m\u001b[0m\u001b[0;34m\u001b[0m\u001b[0m\n\u001b[1;32m    232\u001b[0m                 \u001b[0mdata\u001b[0m \u001b[0;34m=\u001b[0m \u001b[0m_concatenate_chunks\u001b[0m\u001b[0;34m(\u001b[0m\u001b[0mchunks\u001b[0m\u001b[0;34m)\u001b[0m\u001b[0;34m\u001b[0m\u001b[0;34m\u001b[0m\u001b[0m\n",
            "\u001b[0;32m/usr/local/lib/python3.10/dist-packages/pandas/_libs/parsers.pyx\u001b[0m in \u001b[0;36mpandas._libs.parsers.TextReader.read_low_memory\u001b[0;34m()\u001b[0m\n",
            "\u001b[0;32m/usr/local/lib/python3.10/dist-packages/pandas/_libs/parsers.pyx\u001b[0m in \u001b[0;36mpandas._libs.parsers.TextReader._read_rows\u001b[0;34m()\u001b[0m\n",
            "\u001b[0;32m/usr/local/lib/python3.10/dist-packages/pandas/_libs/parsers.pyx\u001b[0m in \u001b[0;36mpandas._libs.parsers.TextReader._tokenize_rows\u001b[0;34m()\u001b[0m\n",
            "\u001b[0;32m/usr/local/lib/python3.10/dist-packages/pandas/_libs/parsers.pyx\u001b[0m in \u001b[0;36mpandas._libs.parsers.raise_parser_error\u001b[0;34m()\u001b[0m\n",
            "\u001b[0;31mUnicodeDecodeError\u001b[0m: 'utf-8' codec can't decode byte 0xe8 in position 65537: invalid continuation byte"
          ]
        }
      ]
    },
    {
      "cell_type": "code",
      "source": [
        "import tensorflow as tf\n",
        "import tensorflow_addons as tfa\n",
        "train,test = tf.keras.datasets.mnist.load_data()\n",
        "x_train, y_train = train\n",
        "x_train = x_train[..., tf.newaxis] / 255.0\n",
        "\n",
        "# TFA layers and activations\n",
        "model = tf.keras.Sequential([\n",
        "  tf.keras.layers.Conv2D(filters=10, kernel_size=(3,3),\n",
        "                         activation=tfa.activations.gelu),\n",
        "  tfa.layers.GroupNormalization(groups=5, axis=3),\n",
        "  tf.keras.layers.Flatten(),\n",
        "  tf.keras.layers.Dense(10, activation='softmax')\n",
        "])\n",
        "\n",
        "# TFA optimizers, losses and metrics\n",
        "model.compile(\n",
        "    optimizer=tfa.optimizers.RectifiedAdam(0.001),\n",
        "    loss=tfa.losses.TripletSemiHardLoss(),\n",
        "    metrics=[tfa.metrics.MultiLabelConfusionMatrix(num_classes=10)])\n",
        "\n",
        "history = model.fit(x_train, y_train, epochs=10)\n"
      ],
      "metadata": {
        "id": "stJX8geST92D",
        "outputId": "3e3c8604-0fb7-4a77-dd27-b5a3e004f09e",
        "colab": {
          "base_uri": "https://localhost:8080/",
          "height": 383
        }
      },
      "execution_count": 1,
      "outputs": [
        {
          "output_type": "error",
          "ename": "ModuleNotFoundError",
          "evalue": "No module named 'tensorflow_addons'",
          "traceback": [
            "\u001b[0;31m---------------------------------------------------------------------------\u001b[0m",
            "\u001b[0;31mModuleNotFoundError\u001b[0m                       Traceback (most recent call last)",
            "\u001b[0;32m<ipython-input-1-228fe30946ab>\u001b[0m in \u001b[0;36m<cell line: 2>\u001b[0;34m()\u001b[0m\n\u001b[1;32m      1\u001b[0m \u001b[0;32mimport\u001b[0m \u001b[0mtensorflow\u001b[0m \u001b[0;32mas\u001b[0m \u001b[0mtf\u001b[0m\u001b[0;34m\u001b[0m\u001b[0;34m\u001b[0m\u001b[0m\n\u001b[0;32m----> 2\u001b[0;31m \u001b[0;32mimport\u001b[0m \u001b[0mtensorflow_addons\u001b[0m \u001b[0;32mas\u001b[0m \u001b[0mtfa\u001b[0m\u001b[0;34m\u001b[0m\u001b[0;34m\u001b[0m\u001b[0m\n\u001b[0m\u001b[1;32m      3\u001b[0m \u001b[0mtrain\u001b[0m\u001b[0;34m,\u001b[0m\u001b[0mtest\u001b[0m \u001b[0;34m=\u001b[0m \u001b[0mtf\u001b[0m\u001b[0;34m.\u001b[0m\u001b[0mkeras\u001b[0m\u001b[0;34m.\u001b[0m\u001b[0mdatasets\u001b[0m\u001b[0;34m.\u001b[0m\u001b[0mmnist\u001b[0m\u001b[0;34m.\u001b[0m\u001b[0mload_data\u001b[0m\u001b[0;34m(\u001b[0m\u001b[0;34m)\u001b[0m\u001b[0;34m\u001b[0m\u001b[0;34m\u001b[0m\u001b[0m\n\u001b[1;32m      4\u001b[0m \u001b[0mx_train\u001b[0m\u001b[0;34m,\u001b[0m \u001b[0my_train\u001b[0m \u001b[0;34m=\u001b[0m \u001b[0mtrain\u001b[0m\u001b[0;34m\u001b[0m\u001b[0;34m\u001b[0m\u001b[0m\n\u001b[1;32m      5\u001b[0m \u001b[0mx_train\u001b[0m \u001b[0;34m=\u001b[0m \u001b[0mx_train\u001b[0m\u001b[0;34m[\u001b[0m\u001b[0;34m...\u001b[0m\u001b[0;34m,\u001b[0m \u001b[0mtf\u001b[0m\u001b[0;34m.\u001b[0m\u001b[0mnewaxis\u001b[0m\u001b[0;34m]\u001b[0m \u001b[0;34m/\u001b[0m \u001b[0;36m255.0\u001b[0m\u001b[0;34m\u001b[0m\u001b[0;34m\u001b[0m\u001b[0m\n",
            "\u001b[0;31mModuleNotFoundError\u001b[0m: No module named 'tensorflow_addons'",
            "",
            "\u001b[0;31m---------------------------------------------------------------------------\u001b[0;32m\nNOTE: If your import is failing due to a missing package, you can\nmanually install dependencies using either !pip or !apt.\n\nTo view examples of installing some common dependencies, click the\n\"Open Examples\" button below.\n\u001b[0;31m---------------------------------------------------------------------------\u001b[0m\n"
          ],
          "errorDetails": {
            "actions": [
              {
                "action": "open_url",
                "actionText": "Open Examples",
                "url": "/notebooks/snippets/importing_libraries.ipynb"
              }
            ]
          }
        }
      ]
    },
    {
      "cell_type": "code",
      "source": [
        "import pandas as pd\n",
        "import matplotlib.pyplot as plt\n",
        "import seaborn as sns\n",
        "\n",
        "# Sample dataset (replace with your actual data file)\n",
        "data = {\n",
        "    \"Transport_Mode\": [\"Electric Train\", \"Diesel Train\", \"Metro\", \"Electric Bus\", \"Diesel Bus\"],\n",
        "    \"Energy_Consumption_MWh\": [500, 300, 400, 250, 350],\n",
        "    \"Emission_Factor_kgCO2_perMWh\": [0, 250, 0, 0, 300],  # Electric modes assumed zero emissions\n",
        "}\n",
        "\n",
        "# Convert data into a DataFrame\n",
        "df = pd.DataFrame(data)\n",
        "\n",
        "# Calculate emissions\n",
        "df[\"Total_Emissions_kgCO2\"] = df[\"Energy_Consumption_MWh\"] * df[\"Emission_Factor_kgCO2_perMWh\"]\n",
        "\n",
        "# Analysis: Total emissions and summary statistics\n",
        "total_emissions = df[\"Total_Emissions_kgCO2\"].sum()\n",
        "emission_summary = df.describe()\n",
        "\n",
        "# Visualization: Emissions by Transport Mode\n",
        "sns.barplot(data=df, x=\"Transport_Mode\", y=\"Total_Emissions_kgCO2\", palette=\"viridis\")\n",
        "plt.title(\"Carbon Emissions by Transport Mode\")\n",
        "plt.xlabel(\"Transport Mode\")\n",
        "plt.ylabel(\"Total Emissions (kg CO2)\")\n",
        "plt.xticks(rotation=45)\n",
        "plt.tight_layout()\n",
        "plt.savefig(\"carbon_emissions_by_mode.png\")  # Save visualization as an image\n",
        "plt.show()\n",
        "\n",
        "# Display results\n",
        "print(\"Total Carbon Emissions (kg CO2):\", total_emissions)\n",
        "print(\"\\nDetailed Data Summary:\")\n",
        "print(df)\n",
        "\n",
        "# Energy efficiency comparison\n",
        "electric_modes = df[df[\"Emission_Factor_kgCO2_perMWh\"] == 0]\n",
        "non_electric_modes = df[df[\"Emission_Factor_kgCO2_perMWh\"] > 0]\n",
        "\n",
        "print(\"\\nElectric Modes Summary:\")\n",
        "print(electric_modes)\n",
        "\n",
        "print(\"\\nNon-Electric Modes Summary:\")\n",
        "print(non_electric_modes)\n",
        "\n",
        "# Export results to a CSV file\n",
        "df.to_csv(\"carbon_emission_analysis.csv\", index=False)\n",
        "print(\"\\nAnalysis saved to 'carbon_emission_analysis.csv'.\")"
      ],
      "metadata": {
        "colab": {
          "base_uri": "https://localhost:8080/",
          "height": 1000
        },
        "id": "6OMpPnehJxF2",
        "outputId": "c38448ca-9bbd-4249-9805-9cfa0d4b0d78"
      },
      "execution_count": 2,
      "outputs": [
        {
          "output_type": "stream",
          "name": "stderr",
          "text": [
            "<ipython-input-2-7e5354da4182>:23: FutureWarning: \n",
            "\n",
            "Passing `palette` without assigning `hue` is deprecated and will be removed in v0.14.0. Assign the `x` variable to `hue` and set `legend=False` for the same effect.\n",
            "\n",
            "  sns.barplot(data=df, x=\"Transport_Mode\", y=\"Total_Emissions_kgCO2\", palette=\"viridis\")\n"
          ]
        },
        {
          "output_type": "display_data",
          "data": {
            "text/plain": [
              "<Figure size 640x480 with 1 Axes>"
            ],
            "image/png": "[encoded data removed]"
          },
          "metadata": {}
        },
        {
          "output_type": "stream",
          "name": "stdout",
          "text": [
            "Total Carbon Emissions (kg CO2): 180000\n",
            "\n",
            "Detailed Data Summary:\n",
            "   Transport_Mode  Energy_Consumption_MWh  Emission_Factor_kgCO2_perMWh  \\\n",
            "0  Electric Train                     500                             0   \n",
            "1    Diesel Train                     300                           250   \n",
            "2           Metro                     400                             0   \n",
            "3    Electric Bus                     250                             0   \n",
            "4      Diesel Bus                     350                           300   \n",
            "\n",
            "   Total_Emissions_kgCO2  \n",
            "0                      0  \n",
            "1                  75000  \n",
            "2                      0  \n",
            "3                      0  \n",
            "4                 105000  \n",
            "\n",
            "Electric Modes Summary:\n",
            "   Transport_Mode  Energy_Consumption_MWh  Emission_Factor_kgCO2_perMWh  \\\n",
            "0  Electric Train                     500                             0   \n",
            "2           Metro                     400                             0   \n",
            "3    Electric Bus                     250                             0   \n",
            "\n",
            "   Total_Emissions_kgCO2  \n",
            "0                      0  \n",
            "2                      0  \n",
            "3                      0  \n",
            "\n",
            "Non-Electric Modes Summary:\n",
            "  Transport_Mode  Energy_Consumption_MWh  Emission_Factor_kgCO2_perMWh  \\\n",
            "1   Diesel Train                     300                           250   \n",
            "4     Diesel Bus                     350                           300   \n",
            "\n",
            "   Total_Emissions_kgCO2  \n",
            "1                  75000  \n",
            "4                 105000  \n",
            "\n",
            "Analysis saved to 'carbon_emission_analysis.csv'.\n"
          ]
        }
      ]
    },
    {
      "cell_type": "markdown",
      "source": [],
      "metadata": {
        "id": "ZymvjpCzPcAh"
      }
    },
    {
      "cell_type": "code",
      "source": [
        "from google.colab import drive\n",
        "drive.mount('/content/drive')"
      ],
      "metadata": {
        "id": "qjplzvHj6AQj"
      },
      "execution_count": null,
      "outputs": []
    }
  ]
}